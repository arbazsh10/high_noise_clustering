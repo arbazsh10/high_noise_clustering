{
 "cells": [
  {
   "cell_type": "code",
   "execution_count": 1,
   "metadata": {
    "ExecuteTime": {
     "end_time": "2019-06-22T17:36:36.222716Z",
     "start_time": "2019-06-22T17:36:34.314462Z"
    }
   },
   "outputs": [],
   "source": [
    "import matplotlib.pyplot as plt\n",
    "import sklearn.datasets as ds\n",
    "from sklearn.decomposition import PCA\n",
    "import numpy as np\n",
    "import pandas as pd\n",
    "import seaborn as sns\n",
    "from collections import Counter\n",
    "from sklearn.datasets.samples_generator import make_blobs\n",
    "from sklearn.metrics.cluster import adjusted_rand_score\n",
    "import scipy\n",
    "from tqdm import tqdm\n",
    "from sklearn import preprocessing\n",
    "import networkx as nx\n",
    "import community\n",
    "import numpy as np\n",
    "import string\n",
    "import matplotlib.pyplot as plt\n",
    "from sklearn.metrics.pairwise import euclidean_distances\n",
    "from sklearn.neighbors import kneighbors_graph\n",
    "import igraph as ig\n",
    "import louvain\n",
    "\n",
    "plt.ion()\n",
    "plt.show()"
   ]
  },
  {
   "cell_type": "markdown",
   "metadata": {},
   "source": [
    "## Generate data"
   ]
  },
  {
   "cell_type": "code",
   "execution_count": 2,
   "metadata": {
    "ExecuteTime": {
     "end_time": "2019-06-22T17:36:36.470088Z",
     "start_time": "2019-06-22T17:36:36.257716Z"
    }
   },
   "outputs": [
    {
     "data": {
      "image/png": "[encoded data removed]",
      "text/plain": [
       "<Figure size 432x288 with 1 Axes>"
      ]
     },
     "metadata": {
      "needs_background": "light"
     },
     "output_type": "display_data"
    }
   ],
   "source": [
    "n_clusters = 6\n",
    "n_features=10\n",
    "n_samples=150\n",
    "random_state = 42\n",
    "\n",
    "\n",
    "data, truth = make_blobs(n_samples=n_samples, centers=n_clusters, random_state=random_state, n_features=n_features)\n",
    "data = preprocessing.MinMaxScaler().fit_transform(data)\n",
    "\n",
    "# Plot\n",
    "plt.scatter(data[:, 0], data[:, 1], s=50, c = truth, cmap = 'viridis')\n",
    "plt.title(f\"Example of a mixture of {n_clusters} distributions\")\n",
    "plt.xlabel(\"Feature 1\")\n",
    "plt.ylabel(\"Feature 2\");"
   ]
  },
  {
   "cell_type": "code",
   "execution_count": 3,
   "metadata": {
    "ExecuteTime": {
     "end_time": "2019-06-22T17:36:36.514977Z",
     "start_time": "2019-06-22T17:36:36.503000Z"
    }
   },
   "outputs": [],
   "source": [
    "def cluster_by_connectivity(data, neighbors = 10, resolution_parameter = 1):\n",
    "    \"\"\"\n",
    "    This method partitions input data by applying the louvain algorithm\n",
    "    on the connectivity binary matrix returned by the kneighbors graph.\n",
    "    \"\"\"\n",
    "    A = kneighbors_graph(data, neighbors, mode='connectivity', include_self=True)\n",
    "    sources, targets = A.nonzero()\n",
    "    weights = A[sources, targets]\n",
    "    if isinstance(weights, np.matrix): # ravel data\n",
    "        weights = weights.A1\n",
    "    g = ig.Graph(directed=False)\n",
    "    g.add_vertices(A.shape[0])  # each observation is a node\n",
    "    edges = list(zip(sources, targets))\n",
    "    g.add_edges(edges)\n",
    "    \n",
    "    g.es['weight'] = weights\n",
    "    weights = np.array(g.es[\"weight\"]).astype(np.float64)\n",
    "    partition_type = louvain.RBConfigurationVertexPartition\n",
    "    partition_kwargs = {}\n",
    "    partition_kwargs[\"weights\"] = weights\n",
    "    partition_kwargs[\"resolution_parameter\"] = resolution_parameter\n",
    "    part = louvain.find_partition(g, partition_type, **partition_kwargs)\n",
    "    groups = np.array(part.membership)\n",
    "    return groups"
   ]
  },
  {
   "cell_type": "code",
   "execution_count": 4,
   "metadata": {
    "ExecuteTime": {
     "end_time": "2019-06-22T17:36:38.254803Z",
     "start_time": "2019-06-22T17:36:38.233860Z"
    }
   },
   "outputs": [
    {
     "data": {
      "text/plain": [
       "Counter({2: 25, 0: 25, 5: 25, 1: 25, 3: 25, 4: 25})"
      ]
     },
     "execution_count": 4,
     "metadata": {},
     "output_type": "execute_result"
    }
   ],
   "source": [
    "prediction = cluster_by_connectivity(data)\n",
    "Counter(prediction)"
   ]
  },
  {
   "cell_type": "code",
   "execution_count": 5,
   "metadata": {
    "ExecuteTime": {
     "end_time": "2019-06-22T17:36:40.199289Z",
     "start_time": "2019-06-22T17:36:40.191276Z"
    }
   },
   "outputs": [
    {
     "data": {
      "text/plain": [
       "1.0"
      ]
     },
     "execution_count": 5,
     "metadata": {},
     "output_type": "execute_result"
    }
   ],
   "source": [
    "adjusted_rand_score(truth, prediction)"
   ]
  },
  {
   "cell_type": "markdown",
   "metadata": {},
   "source": [
    "## Distance based partitioning"
   ]
  },
  {
   "cell_type": "markdown",
   "metadata": {},
   "source": [
    "Compute distance matrix:"
   ]
  },
  {
   "cell_type": "code",
   "execution_count": 6,
   "metadata": {
    "ExecuteTime": {
     "end_time": "2019-06-22T17:36:41.378861Z",
     "start_time": "2019-06-22T17:36:41.372872Z"
    }
   },
   "outputs": [
    {
     "name": "stdout",
     "output_type": "stream",
     "text": [
      "(150, 150)\n"
     ]
    }
   ],
   "source": [
    "distanceMatrix =  euclidean_distances(data, data)\n",
    "print(distanceMatrix.shape)"
   ]
  },
  {
   "cell_type": "code",
   "execution_count": 7,
   "metadata": {
    "ExecuteTime": {
     "end_time": "2019-06-22T17:36:42.140906Z",
     "start_time": "2019-06-22T17:36:42.133924Z"
    }
   },
   "outputs": [],
   "source": [
    "def cluster_by_distance_matrix(distanceMatrix, resolution_parameter = 1.5):\n",
    "    \"\"\"\n",
    "    This method partitions input data by applying the louvain algorithm\n",
    "    on a given distance matrix.\n",
    "    A similarity matrix is computed from the distance matrix and its elements\n",
    "    will serve as edge weights.\n",
    "    \"\"\"\n",
    "    # convert distance matrix to similariy matrix\n",
    "    distanceMatrix = 1- distanceMatrix/np.max(distanceMatrix)\n",
    "    edges = np.unravel_index(np.arange(distanceMatrix.shape[0]*distanceMatrix.shape[1]), distanceMatrix.shape)\n",
    "    edges = list(zip(*edges))\n",
    "    weights = distanceMatrix.ravel()\n",
    "    \n",
    "    g = ig.Graph(directed=False)\n",
    "    g.add_vertices(distanceMatrix.shape[0])  # each observation is a node\n",
    "    g.add_edges(edges)\n",
    "    \n",
    "    g.es['weight'] = weights\n",
    "    weights = np.array(g.es[\"weight\"]).astype(np.float64)\n",
    "    partition_type = louvain.RBConfigurationVertexPartition\n",
    "    partition_kwargs = {}\n",
    "    partition_kwargs[\"weights\"] = weights\n",
    "    partition_kwargs[\"resolution_parameter\"] = resolution_parameter\n",
    "    part = louvain.find_partition(g, partition_type, **partition_kwargs)\n",
    "    groups = np.array(part.membership)\n",
    "    return groups"
   ]
  },
  {
   "cell_type": "markdown",
   "metadata": {},
   "source": [
    "Make prediction:"
   ]
  },
  {
   "cell_type": "code",
   "execution_count": 8,
   "metadata": {
    "ExecuteTime": {
     "end_time": "2019-06-22T17:36:43.133687Z",
     "start_time": "2019-06-22T17:36:43.082821Z"
    }
   },
   "outputs": [
    {
     "data": {
      "text/plain": [
       "Counter({5: 25, 4: 25, 0: 25, 1: 25, 3: 25, 2: 25})"
      ]
     },
     "execution_count": 8,
     "metadata": {},
     "output_type": "execute_result"
    }
   ],
   "source": [
    "prediction = cluster_by_distance_matrix(distanceMatrix)\n",
    "Counter(prediction)"
   ]
  },
  {
   "cell_type": "markdown",
   "metadata": {},
   "source": [
    "Evaluate prediction:"
   ]
  },
  {
   "cell_type": "code",
   "execution_count": 9,
   "metadata": {
    "ExecuteTime": {
     "end_time": "2019-06-22T17:36:44.449581Z",
     "start_time": "2019-06-22T17:36:44.442606Z"
    }
   },
   "outputs": [
    {
     "data": {
      "text/plain": [
       "1.0"
      ]
     },
     "execution_count": 9,
     "metadata": {},
     "output_type": "execute_result"
    }
   ],
   "source": [
    "adjusted_rand_score(truth, prediction)"
   ]
  },
  {
   "cell_type": "code",
   "execution_count": null,
   "metadata": {},
   "outputs": [],
   "source": []
  },
  {
   "cell_type": "code",
   "execution_count": null,
   "metadata": {},
   "outputs": [],
   "source": []
  }
 ],
 "metadata": {
  "kernelspec": {
   "display_name": "Python 3",
   "language": "python",
   "name": "python3"
  },
  "language_info": {
   "codemirror_mode": {
    "name": "ipython",
    "version": 3
   },
   "file_extension": ".py",
   "mimetype": "text/x-python",
   "name": "python",
   "nbconvert_exporter": "python",
   "pygments_lexer": "ipython3",
   "version": "3.6.6"
  },
  "varInspector": {
   "cols": {
    "lenName": 16,
    "lenType": 16,
    "lenVar": 40
   },
   "kernels_config": {
    "python": {
     "delete_cmd_postfix": "",
     "delete_cmd_prefix": "del ",
     "library": "var_list.py",
     "varRefreshCmd": "print(var_dic_list())"
    },
    "r": {
     "delete_cmd_postfix": ") ",
     "delete_cmd_prefix": "rm(",
     "library": "var_list.r",
     "varRefreshCmd": "cat(var_dic_list()) "
    }
   },
   "types_to_exclude": [
    "module",
    "function",
    "builtin_function_or_method",
    "instance",
    "_Feature"
   ],
   "window_display": false
  }
 },
 "nbformat": 4,
 "nbformat_minor": 2
}
