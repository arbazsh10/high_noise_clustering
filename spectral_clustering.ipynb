{
 "cells": [
  {
   "cell_type": "code",
   "execution_count": null,
   "metadata": {
    "ExecuteTime": {
     "end_time": "2018-12-31T17:24:59.592027Z",
     "start_time": "2018-12-31T17:24:56.702826Z"
    }
   },
   "outputs": [],
   "source": [
    "import pandas as pd\n",
    "import matplotlib.pyplot as plt\n",
    "import seaborn as sns\n",
    "from collections import Counter\n",
    "import random\n",
    "from tqdm import tqdm\n",
    "import numpy as np\n",
    "from sklearn.datasets.samples_generator import make_blobs\n",
    "from sklearn.cluster import SpectralClustering, AffinityPropagation\n",
    "\n",
    "import utils\n",
    "plt.ion()\n",
    "plt.show()"
   ]
  },
  {
   "cell_type": "markdown",
   "metadata": {},
   "source": [
    "# Create simulated data"
   ]
  },
  {
   "cell_type": "code",
   "execution_count": null,
   "metadata": {
    "ExecuteTime": {
     "end_time": "2018-12-31T17:24:59.774804Z",
     "start_time": "2018-12-31T17:24:59.596016Z"
    }
   },
   "outputs": [],
   "source": [
    "nb_clusters = 7\n",
    "X, y_true = make_blobs(n_samples=300, centers=nb_clusters,\n",
    "                       cluster_std=.80, random_state=0)\n",
    "/print X.shape\n",
    "plt.title(f'Ground truth simulated data : {nb_clusters} clusters')\n",
    "plt.scatter(X[:, 0], X[:, 1], s=50, c = y_true);"
   ]
  },
  {
   "cell_type": "markdown",
   "metadata": {},
   "source": [
    "Let's check some internal cluster quality measures on the ground truth:"
   ]
  },
  {
   "cell_type": "code",
   "execution_count": null,
   "metadata": {
    "ExecuteTime": {
     "end_time": "2018-12-31T17:24:59.791719Z",
     "start_time": "2018-12-31T17:24:59.776759Z"
    }
   },
   "outputs": [],
   "source": [
    "utils.internalValidation(X, y_true)"
   ]
  },
  {
   "cell_type": "markdown",
   "metadata": {},
   "source": [
    "Since the generated data was overlapping on the borders, the silhoutte score is only 0.52"
   ]
  },
  {
   "cell_type": "code",
   "execution_count": null,
   "metadata": {},
   "outputs": [],
   "source": []
  },
  {
   "cell_type": "markdown",
   "metadata": {},
   "source": [
    "# Spectral clustering"
   ]
  },
  {
   "cell_type": "code",
   "execution_count": null,
   "metadata": {
    "ExecuteTime": {
     "end_time": "2018-12-31T17:24:59.842582Z",
     "start_time": "2018-12-31T17:24:59.796706Z"
    }
   },
   "outputs": [],
   "source": [
    "clustering = SpectralClustering(n_clusters=nb_clusters, assign_labels=\"discretize\", random_state=0).fit(X)\n",
    "y_pred = clustering.labels_\n",
    "plt.title(f'Spectral clustering results ')\n",
    "plt.scatter(X[:, 0], X[:, 1], s=50, c = y_pred);"
   ]
  },
  {
   "cell_type": "markdown",
   "metadata": {},
   "source": [
    "## Internal validation"
   ]
  },
  {
   "cell_type": "code",
   "execution_count": null,
   "metadata": {
    "ExecuteTime": {
     "end_time": "2018-12-31T17:25:00.024097Z",
     "start_time": "2018-12-31T17:25:00.008140Z"
    }
   },
   "outputs": [],
   "source": [
    "utils.internalValidation(X, y_pred)"
   ]
  },
  {
   "cell_type": "markdown",
   "metadata": {},
   "source": [
    "## External validation"
   ]
  },
  {
   "cell_type": "code",
   "execution_count": null,
   "metadata": {
    "ExecuteTime": {
     "end_time": "2018-12-31T17:25:00.055015Z",
     "start_time": "2018-12-31T17:25:00.028088Z"
    },
    "scrolled": true
   },
   "outputs": [],
   "source": [
    "utils.externalValidation(y_true, y_pred)"
   ]
  },
  {
   "cell_type": "code",
   "execution_count": null,
   "metadata": {},
   "outputs": [],
   "source": []
  },
  {
   "cell_type": "markdown",
   "metadata": {},
   "source": [
    "# Affinity propagation"
   ]
  },
  {
   "cell_type": "code",
   "execution_count": null,
   "metadata": {
    "ExecuteTime": {
     "end_time": "2018-12-31T17:25:00.156742Z",
     "start_time": "2018-12-31T17:25:00.057011Z"
    }
   },
   "outputs": [],
   "source": [
    "clustering = AffinityPropagation().fit(X)\n",
    "y_pred = clustering.labels_\n",
    "print(f'Affinity propagation found {len(np.unique(y_pred))} clusters')\n",
    "plt.title(f'Affinity propagation clustering results ')\n",
    "plt.scatter(X[:, 0], X[:, 1], s=50, c = y_pred);"
   ]
  },
  {
   "cell_type": "markdown",
   "metadata": {},
   "source": [
    "## Internal validation"
   ]
  },
  {
   "cell_type": "code",
   "execution_count": null,
   "metadata": {
    "ExecuteTime": {
     "end_time": "2018-12-31T17:25:00.317314Z",
     "start_time": "2018-12-31T17:25:00.300359Z"
    }
   },
   "outputs": [],
   "source": [
    "utils.internalValidation(X, y_pred)"
   ]
  },
  {
   "cell_type": "markdown",
   "metadata": {},
   "source": [
    "## External validation"
   ]
  },
  {
   "cell_type": "code",
   "execution_count": null,
   "metadata": {
    "ExecuteTime": {
     "end_time": "2018-12-31T17:25:00.344241Z",
     "start_time": "2018-12-31T17:25:00.320309Z"
    },
    "scrolled": true
   },
   "outputs": [],
   "source": [
    "utils.externalValidation(y_true, y_pred)"
   ]
  },
  {
   "cell_type": "code",
   "execution_count": null,
   "metadata": {},
   "outputs": [],
   "source": []
  }
 ],
 "metadata": {
  "kernelspec": {
   "display_name": "Python 3",
   "language": "python",
   "name": "python3"
  },
  "language_info": {
   "codemirror_mode": {
    "name": "ipython",
    "version": 3
   },
   "file_extension": ".py",
   "mimetype": "text/x-python",
   "name": "python",
   "nbconvert_exporter": "python",
   "pygments_lexer": "ipython3",
   "version": "3.6.6"
  },
  "varInspector": {
   "cols": {
    "lenName": 16,
    "lenType": 16,
    "lenVar": 40
   },
   "kernels_config": {
    "python": {
     "delete_cmd_postfix": "",
     "delete_cmd_prefix": "del ",
     "library": "var_list.py",
     "varRefreshCmd": "print(var_dic_list())"
    },
    "r": {
     "delete_cmd_postfix": ") ",
     "delete_cmd_prefix": "rm(",
     "library": "var_list.r",
     "varRefreshCmd": "cat(var_dic_list()) "
    }
   },
   "types_to_exclude": [
    "module",
    "function",
    "builtin_function_or_method",
    "instance",
    "_Feature"
   ],
   "window_display": false
  }
 },
 "nbformat": 4,
 "nbformat_minor": 2
}
